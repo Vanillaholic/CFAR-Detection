{
 "cells": [
  {
   "cell_type": "code",
   "execution_count": null,
   "metadata": {},
   "outputs": [],
   "source": [
    "'''经过带通滤波器'''\n",
    "from scipy import signal  # 带通滤波器\n",
    "fmax = sr/2\n",
    "f_start ,f_end= 1400/fmax ,1600/fmax\n",
    "b, a  =   signal.butter( 8 , [ f_start , f_end ],  'bandpass' )    #配置滤波器 8 表示滤波器的阶数\n",
    "out  =   signal.filtfilt(b, a, convg_1st_echo)   #data为要过滤的信号\n",
    "#绘制信号波形\n",
    "lb.display.waveshow(out, sr=sr,axis='s')\n",
    "plt.title(category+' Echo')\n",
    "plt.xlabel('Time (s)')\n",
    "plt.ylabel('Amplitude')\n",
    "plt.tight_layout()\n",
    "plt.grid(True)\n",
    "plt.show()\n",
    "\n",
    "'''进行匹配滤波'''\n",
    "t=np.arange(0,260-1/sr,1/sr)\n",
    "template = np.sin(2 * np.pi * 1500 * t)  # 1500 Hz 的正弦波作为参考信号\n",
    "\n",
    "# 匹配滤波：将输入信号与参考信号的时间反转版本进行卷积\n",
    "matched_output = signal.fftconvolve(out, template[::-1], mode='same')\n",
    "\n",
    "#绘制信号波形\n",
    "lb.display.waveshow(matched_output, sr=sr,axis='s')\n",
    "plt.title(category+' Echo')\n",
    "plt.xlabel('Time (s)')\n",
    "plt.ylabel('Amplitude')\n",
    "plt.tight_layout()\n",
    "plt.grid(True)\n",
    "plt.show()\n"
   ]
  }
 ],
 "metadata": {
  "kernelspec": {
   "display_name": "sig_processing",
   "language": "python",
   "name": "python3"
  },
  "language_info": {
   "name": "python",
   "version": "3.9.18"
  }
 },
 "nbformat": 4,
 "nbformat_minor": 2
}
